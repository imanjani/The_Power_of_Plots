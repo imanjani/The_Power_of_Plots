{
 "cells": [
  {
   "cell_type": "markdown",
   "metadata": {},
   "source": [
    "#Iman Jani\n",
    "#Option 1: Pyber\n",
    "#Matplot Assignment"
   ]
  },
  {
   "cell_type": "code",
   "execution_count": 1,
   "metadata": {
    "collapsed": true
   },
   "outputs": [],
   "source": [
    "import pandas as pd\n",
    "import numpy as np\n",
    "import matplotlib.pyplot as plt"
   ]
  },
  {
   "cell_type": "code",
   "execution_count": 2,
   "metadata": {
    "collapsed": true
   },
   "outputs": [],
   "source": [
    "# colors=('Gold', 'Lightskyblue', 'Lightcoral')\n",
    "# df_city=pd.read_csv(\"city_data.csv\")\n",
    "\n",
    "\n",
    "# df_type=df_city[[\"city\",\"type\"]]\n",
    "# df_type.head()"
   ]
  },
  {
   "cell_type": "code",
   "execution_count": 3,
   "metadata": {
    "collapsed": true
   },
   "outputs": [],
   "source": [
    "# read from CSV files\n",
    "df_city=pd.read_csv(\"city_data.csv\")\n",
    "df_ride=pd.read_csv(\"ride_data.csv\")"
   ]
  },
  {
   "cell_type": "code",
   "execution_count": 4,
   "metadata": {},
   "outputs": [
    {
     "data": {
      "text/html": [
       "<div>\n",
       "<style>\n",
       "    .dataframe thead tr:only-child th {\n",
       "        text-align: right;\n",
       "    }\n",
       "\n",
       "    .dataframe thead th {\n",
       "        text-align: left;\n",
       "    }\n",
       "\n",
       "    .dataframe tbody tr th {\n",
       "        vertical-align: top;\n",
       "    }\n",
       "</style>\n",
       "<table border=\"1\" class=\"dataframe\">\n",
       "  <thead>\n",
       "    <tr style=\"text-align: right;\">\n",
       "      <th></th>\n",
       "      <th>city</th>\n",
       "      <th>date</th>\n",
       "      <th>fare</th>\n",
       "      <th>ride_id</th>\n",
       "      <th>driver_count</th>\n",
       "      <th>type</th>\n",
       "    </tr>\n",
       "  </thead>\n",
       "  <tbody>\n",
       "    <tr>\n",
       "      <th>0</th>\n",
       "      <td>Sarabury</td>\n",
       "      <td>2016-01-16 13:49:27</td>\n",
       "      <td>38.35</td>\n",
       "      <td>5403689035038</td>\n",
       "      <td>46</td>\n",
       "      <td>Urban</td>\n",
       "    </tr>\n",
       "    <tr>\n",
       "      <th>1</th>\n",
       "      <td>South Roy</td>\n",
       "      <td>2016-01-02 18:42:34</td>\n",
       "      <td>17.49</td>\n",
       "      <td>4036272335942</td>\n",
       "      <td>35</td>\n",
       "      <td>Urban</td>\n",
       "    </tr>\n",
       "    <tr>\n",
       "      <th>2</th>\n",
       "      <td>Wiseborough</td>\n",
       "      <td>2016-01-21 17:35:29</td>\n",
       "      <td>44.18</td>\n",
       "      <td>3645042422587</td>\n",
       "      <td>55</td>\n",
       "      <td>Urban</td>\n",
       "    </tr>\n",
       "    <tr>\n",
       "      <th>3</th>\n",
       "      <td>Spencertown</td>\n",
       "      <td>2016-07-31 14:53:22</td>\n",
       "      <td>6.87</td>\n",
       "      <td>2242596575892</td>\n",
       "      <td>68</td>\n",
       "      <td>Urban</td>\n",
       "    </tr>\n",
       "    <tr>\n",
       "      <th>4</th>\n",
       "      <td>Nguyenbury</td>\n",
       "      <td>2016-07-09 04:42:44</td>\n",
       "      <td>6.28</td>\n",
       "      <td>1543057793673</td>\n",
       "      <td>8</td>\n",
       "      <td>Urban</td>\n",
       "    </tr>\n",
       "  </tbody>\n",
       "</table>\n",
       "</div>"
      ],
      "text/plain": [
       "          city                 date   fare        ride_id  driver_count   type\n",
       "0     Sarabury  2016-01-16 13:49:27  38.35  5403689035038            46  Urban\n",
       "1    South Roy  2016-01-02 18:42:34  17.49  4036272335942            35  Urban\n",
       "2  Wiseborough  2016-01-21 17:35:29  44.18  3645042422587            55  Urban\n",
       "3  Spencertown  2016-07-31 14:53:22   6.87  2242596575892            68  Urban\n",
       "4   Nguyenbury  2016-07-09 04:42:44   6.28  1543057793673             8  Urban"
      ]
     },
     "execution_count": 4,
     "metadata": {},
     "output_type": "execute_result"
    }
   ],
   "source": [
    "#Merg two data sets to add city type on ride database\n",
    "df_merged=df_ride.merge(df_city, on='city', how='left')\n",
    "df_merged.head()"
   ]
  },
  {
   "cell_type": "markdown",
   "metadata": {},
   "source": [
    "Getting the below values:\n",
    "* Average Fare ($) Per City\n",
    "* Total Number of Rides Per City\n",
    "* Total Number of Drivers Per City\n",
    "* City Type (Urban, Suburban, Rural)\n"
   ]
  },
  {
   "cell_type": "code",
   "execution_count": 14,
   "metadata": {},
   "outputs": [
    {
     "data": {
      "text/plain": [
       "<matplotlib.text.Text at 0x11e0ef940>"
      ]
     },
     "execution_count": 14,
     "metadata": {},
     "output_type": "execute_result"
    },
    {
     "data": {
      "image/png": "[encoded data removed]",
      "text/plain": [
       "<matplotlib.figure.Figure at 0x11a61bf60>"
      ]
     },
     "metadata": {},
     "output_type": "display_data"
    }
   ],
   "source": [
    "#Average Fare ($) Per City\n",
    "Average_fare=df_merged.groupby(\"city\").fare.mean()\n",
    "\n",
    "#Total Number of drivers Per City\n",
    "total_driver=df_merged.groupby(\"city\").driver_count.sum()\n",
    "\n",
    "#Total Number of Rides Per City\n",
    "total_rides=df_merged.groupby(\"city\").ride_id.count()\n",
    "\n",
    "\n",
    "\n",
    "#create a pivot table to see the % of Total Fares by City Type\n",
    "df_pivot=df_merged.pivot_table(index=\"type\", aggfunc=\"sum\")\n",
    "\n",
    "#adding the % part per city to the pivot tble\n",
    "df_pivot[\"%fare_city_type\"]=(df_pivot.fare).astype(float)/df_pivot.fare.sum()*100\n",
    "\n",
    "#add index \n",
    "df_pivot=df_pivot.reset_index()\n",
    "\n",
    "\n",
    "#enable mathplot \n",
    "%matplotlib inline\n",
    "\n",
    "#pie chart for Total Fare by City Typ\n",
    "\n",
    "colors=('Gold', 'Lightskyblue', 'Lightcoral')\n",
    "\n",
    "plt.figure(figsize = (7,7))\n",
    "\n",
    "explode=[0,0,0.15]\n",
    "\n",
    "\n",
    "plt.pie(df_pivot[\"%fare_city_type\"], labels=df_pivot[\"type\"], colors=colors, explode=explode,\n",
    "    autopct=\"{0:1.1f}%\".format, shadow=True, startangle=110)\n",
    "\n",
    "plt.title(\"% of Total Fares by City Type\")\n",
    "\n"
   ]
  },
  {
   "cell_type": "code",
   "execution_count": 6,
   "metadata": {},
   "outputs": [
    {
     "data": {
      "text/html": [
       "<div>\n",
       "<style>\n",
       "    .dataframe thead tr:only-child th {\n",
       "        text-align: right;\n",
       "    }\n",
       "\n",
       "    .dataframe thead th {\n",
       "        text-align: left;\n",
       "    }\n",
       "\n",
       "    .dataframe tbody tr th {\n",
       "        vertical-align: top;\n",
       "    }\n",
       "</style>\n",
       "<table border=\"1\" class=\"dataframe\">\n",
       "  <thead>\n",
       "    <tr style=\"text-align: right;\">\n",
       "      <th></th>\n",
       "      <th>city</th>\n",
       "      <th>Average_fare</th>\n",
       "      <th>total_driver</th>\n",
       "      <th>total_rides</th>\n",
       "      <th>driver_count</th>\n",
       "      <th>type</th>\n",
       "    </tr>\n",
       "  </thead>\n",
       "  <tbody>\n",
       "    <tr>\n",
       "      <th>0</th>\n",
       "      <td>Alvarezhaven</td>\n",
       "      <td>23.928710</td>\n",
       "      <td>651</td>\n",
       "      <td>31</td>\n",
       "      <td>21</td>\n",
       "      <td>Urban</td>\n",
       "    </tr>\n",
       "    <tr>\n",
       "      <th>1</th>\n",
       "      <td>Alyssaberg</td>\n",
       "      <td>20.609615</td>\n",
       "      <td>1742</td>\n",
       "      <td>26</td>\n",
       "      <td>67</td>\n",
       "      <td>Urban</td>\n",
       "    </tr>\n",
       "    <tr>\n",
       "      <th>2</th>\n",
       "      <td>Anitamouth</td>\n",
       "      <td>37.315556</td>\n",
       "      <td>144</td>\n",
       "      <td>9</td>\n",
       "      <td>16</td>\n",
       "      <td>Suburban</td>\n",
       "    </tr>\n",
       "    <tr>\n",
       "      <th>3</th>\n",
       "      <td>Antoniomouth</td>\n",
       "      <td>23.625000</td>\n",
       "      <td>462</td>\n",
       "      <td>22</td>\n",
       "      <td>21</td>\n",
       "      <td>Urban</td>\n",
       "    </tr>\n",
       "    <tr>\n",
       "      <th>4</th>\n",
       "      <td>Aprilchester</td>\n",
       "      <td>21.981579</td>\n",
       "      <td>931</td>\n",
       "      <td>19</td>\n",
       "      <td>49</td>\n",
       "      <td>Urban</td>\n",
       "    </tr>\n",
       "  </tbody>\n",
       "</table>\n",
       "</div>"
      ],
      "text/plain": [
       "           city  Average_fare  total_driver  total_rides  driver_count  \\\n",
       "0  Alvarezhaven     23.928710           651           31            21   \n",
       "1    Alyssaberg     20.609615          1742           26            67   \n",
       "2    Anitamouth     37.315556           144            9            16   \n",
       "3  Antoniomouth     23.625000           462           22            21   \n",
       "4  Aprilchester     21.981579           931           19            49   \n",
       "\n",
       "       type  \n",
       "0     Urban  \n",
       "1     Urban  \n",
       "2  Suburban  \n",
       "3     Urban  \n",
       "4     Urban  "
      ]
     },
     "execution_count": 6,
     "metadata": {},
     "output_type": "execute_result"
    }
   ],
   "source": [
    "#Create a datafram from variables \n",
    "\n",
    "n_df={\"Average_fare\":Average_fare,\n",
    "    \"total_driver\":total_driver,\n",
    "    \"total_rides\":total_rides,\n",
    "    }\n",
    "\n",
    "n_df=pd.DataFrame(n_df)\n",
    "\n",
    "#reset index then we can merge with city type file\n",
    "\n",
    "n_df=n_df.reset_index()\n",
    "\n",
    "#merge with city type to add city type to Data Frame\n",
    "df=n_df.merge(df_city, on='city')\n",
    "\n",
    "df.head()\n"
   ]
  },
  {
   "cell_type": "code",
   "execution_count": 13,
   "metadata": {},
   "outputs": [
    {
     "data": {
      "image/png": "[encoded data removed]",
      "text/plain": [
       "<matplotlib.figure.Figure at 0x11de7d940>"
      ]
     },
     "metadata": {},
     "output_type": "display_data"
    }
   ],
   "source": [
    "#Scatter Plot \n",
    "plt.figure(figsize = (13,13))\n",
    "\n",
    "plt.scatter(df['total_rides'],df['Average_fare'], marker=\"o\", \n",
    "            facecolors=colors, edgecolors=\"black\",\n",
    "            sizes=df['total_rides'], alpha=0.75, linewidths=1, label=df['type'])\n",
    "\n",
    "\n",
    "\n",
    "\n",
    "#adding Title\n",
    "plt.title(\"Pyber Ride Sharing Data (2016)\")\n",
    "plt.xlabel(\"Total Number of Rides (Per City)\")\n",
    "plt.ylabel(\"Average Fare($)\")\n",
    "\n",
    "#change X avd Y axis limits\n",
    "plt.xlim(0, 40)\n",
    "plt.ylim(15, 45)\n",
    "plt.grid()\n",
    "plt.show()"
   ]
  },
  {
   "cell_type": "code",
   "execution_count": 8,
   "metadata": {},
   "outputs": [
    {
     "data": {
      "text/html": [
       "<div>\n",
       "<style>\n",
       "    .dataframe thead tr:only-child th {\n",
       "        text-align: right;\n",
       "    }\n",
       "\n",
       "    .dataframe thead th {\n",
       "        text-align: left;\n",
       "    }\n",
       "\n",
       "    .dataframe tbody tr th {\n",
       "        vertical-align: top;\n",
       "    }\n",
       "</style>\n",
       "<table border=\"1\" class=\"dataframe\">\n",
       "  <thead>\n",
       "    <tr style=\"text-align: right;\">\n",
       "      <th></th>\n",
       "      <th>Average_fare</th>\n",
       "      <th>total_driver</th>\n",
       "      <th>total_rides</th>\n",
       "      <th>driver_count</th>\n",
       "    </tr>\n",
       "  </thead>\n",
       "  <tbody>\n",
       "    <tr>\n",
       "      <th>Average_fare</th>\n",
       "      <td>1.000000</td>\n",
       "      <td>-0.547734</td>\n",
       "      <td>-0.447495</td>\n",
       "      <td>-0.544916</td>\n",
       "    </tr>\n",
       "    <tr>\n",
       "      <th>total_driver</th>\n",
       "      <td>-0.547734</td>\n",
       "      <td>1.000000</td>\n",
       "      <td>0.550670</td>\n",
       "      <td>0.956224</td>\n",
       "    </tr>\n",
       "    <tr>\n",
       "      <th>total_rides</th>\n",
       "      <td>-0.447495</td>\n",
       "      <td>0.550670</td>\n",
       "      <td>1.000000</td>\n",
       "      <td>0.385512</td>\n",
       "    </tr>\n",
       "    <tr>\n",
       "      <th>driver_count</th>\n",
       "      <td>-0.544916</td>\n",
       "      <td>0.956224</td>\n",
       "      <td>0.385512</td>\n",
       "      <td>1.000000</td>\n",
       "    </tr>\n",
       "  </tbody>\n",
       "</table>\n",
       "</div>"
      ],
      "text/plain": [
       "              Average_fare  total_driver  total_rides  driver_count\n",
       "Average_fare      1.000000     -0.547734    -0.447495     -0.544916\n",
       "total_driver     -0.547734      1.000000     0.550670      0.956224\n",
       "total_rides      -0.447495      0.550670     1.000000      0.385512\n",
       "driver_count     -0.544916      0.956224     0.385512      1.000000"
      ]
     },
     "execution_count": 8,
     "metadata": {},
     "output_type": "execute_result"
    }
   ],
   "source": [
    "#check the correlation\n",
    "\n",
    "df.corr()\n",
    "\n",
    "#fare and number of rides has negative correlation\n",
    "\n",
    "#(df['total_rides'],df['Average_fare'])"
   ]
  },
  {
   "cell_type": "markdown",
   "metadata": {},
   "source": [
    "Getting the below values:\n",
    "* % of Total Fares by City Type\n",
    "* % of Total Rides by City Type\n",
    "* % of Total Drivers by City Type\n"
   ]
  },
  {
   "cell_type": "code",
   "execution_count": 8,
   "metadata": {},
   "outputs": [
    {
     "data": {
      "text/html": [
       "<div>\n",
       "<style>\n",
       "    .dataframe thead tr:only-child th {\n",
       "        text-align: right;\n",
       "    }\n",
       "\n",
       "    .dataframe thead th {\n",
       "        text-align: left;\n",
       "    }\n",
       "\n",
       "    .dataframe tbody tr th {\n",
       "        vertical-align: top;\n",
       "    }\n",
       "</style>\n",
       "<table border=\"1\" class=\"dataframe\">\n",
       "  <thead>\n",
       "    <tr style=\"text-align: right;\">\n",
       "      <th></th>\n",
       "      <th>Average_fare</th>\n",
       "      <th>total_driver</th>\n",
       "      <th>total_rides</th>\n",
       "      <th>driver_count</th>\n",
       "    </tr>\n",
       "  </thead>\n",
       "  <tbody>\n",
       "    <tr>\n",
       "      <th>Average_fare</th>\n",
       "      <td>1.000000</td>\n",
       "      <td>-0.547734</td>\n",
       "      <td>-0.447495</td>\n",
       "      <td>-0.544916</td>\n",
       "    </tr>\n",
       "    <tr>\n",
       "      <th>total_driver</th>\n",
       "      <td>-0.547734</td>\n",
       "      <td>1.000000</td>\n",
       "      <td>0.550670</td>\n",
       "      <td>0.956224</td>\n",
       "    </tr>\n",
       "    <tr>\n",
       "      <th>total_rides</th>\n",
       "      <td>-0.447495</td>\n",
       "      <td>0.550670</td>\n",
       "      <td>1.000000</td>\n",
       "      <td>0.385512</td>\n",
       "    </tr>\n",
       "    <tr>\n",
       "      <th>driver_count</th>\n",
       "      <td>-0.544916</td>\n",
       "      <td>0.956224</td>\n",
       "      <td>0.385512</td>\n",
       "      <td>1.000000</td>\n",
       "    </tr>\n",
       "  </tbody>\n",
       "</table>\n",
       "</div>"
      ],
      "text/plain": [
       "              Average_fare  total_driver  total_rides  driver_count\n",
       "Average_fare      1.000000     -0.547734    -0.447495     -0.544916\n",
       "total_driver     -0.547734      1.000000     0.550670      0.956224\n",
       "total_rides      -0.447495      0.550670     1.000000      0.385512\n",
       "driver_count     -0.544916      0.956224     0.385512      1.000000"
      ]
     },
     "execution_count": 8,
     "metadata": {},
     "output_type": "execute_result"
    }
   ],
   "source": [
    "#check the correlation\n",
    "\n",
    "df.corr()\n",
    "\n",
    "#fare and number of rides has negative correlation\n",
    "\n",
    "#(df['total_rides'],df['Average_fare'])"
   ]
  },
  {
   "cell_type": "code",
   "execution_count": 9,
   "metadata": {},
   "outputs": [
    {
     "data": {
      "text/html": [
       "<div>\n",
       "<style>\n",
       "    .dataframe thead tr:only-child th {\n",
       "        text-align: right;\n",
       "    }\n",
       "\n",
       "    .dataframe thead th {\n",
       "        text-align: left;\n",
       "    }\n",
       "\n",
       "    .dataframe tbody tr th {\n",
       "        vertical-align: top;\n",
       "    }\n",
       "</style>\n",
       "<table border=\"1\" class=\"dataframe\">\n",
       "  <thead>\n",
       "    <tr style=\"text-align: right;\">\n",
       "      <th></th>\n",
       "      <th>Average_fare</th>\n",
       "      <th>driver_count</th>\n",
       "      <th>total_driver</th>\n",
       "      <th>total_rides</th>\n",
       "      <th>%fare_city_type</th>\n",
       "      <th>% Total Rides by City Type</th>\n",
       "      <th>% Total Drivers by City Type</th>\n",
       "    </tr>\n",
       "    <tr>\n",
       "      <th>type</th>\n",
       "      <th></th>\n",
       "      <th></th>\n",
       "      <th></th>\n",
       "      <th></th>\n",
       "      <th></th>\n",
       "      <th></th>\n",
       "      <th></th>\n",
       "    </tr>\n",
       "  </thead>\n",
       "  <tbody>\n",
       "    <tr>\n",
       "      <th>Rural</th>\n",
       "      <td>615.728572</td>\n",
       "      <td>104</td>\n",
       "      <td>727</td>\n",
       "      <td>125</td>\n",
       "      <td>17.393335</td>\n",
       "      <td>5.058681</td>\n",
       "      <td>0.962480</td>\n",
       "    </tr>\n",
       "    <tr>\n",
       "      <th>Suburban</th>\n",
       "      <td>1300.433953</td>\n",
       "      <td>638</td>\n",
       "      <td>10306</td>\n",
       "      <td>721</td>\n",
       "      <td>36.735153</td>\n",
       "      <td>29.178470</td>\n",
       "      <td>13.644187</td>\n",
       "    </tr>\n",
       "    <tr>\n",
       "      <th>Urban</th>\n",
       "      <td>1623.863390</td>\n",
       "      <td>2607</td>\n",
       "      <td>64501</td>\n",
       "      <td>1625</td>\n",
       "      <td>45.871511</td>\n",
       "      <td>65.762849</td>\n",
       "      <td>85.393333</td>\n",
       "    </tr>\n",
       "  </tbody>\n",
       "</table>\n",
       "</div>"
      ],
      "text/plain": [
       "          Average_fare  driver_count  total_driver  total_rides  \\\n",
       "type                                                              \n",
       "Rural       615.728572           104           727          125   \n",
       "Suburban   1300.433953           638         10306          721   \n",
       "Urban      1623.863390          2607         64501         1625   \n",
       "\n",
       "          %fare_city_type  % Total Rides by City Type  \\\n",
       "type                                                    \n",
       "Rural           17.393335                    5.058681   \n",
       "Suburban        36.735153                   29.178470   \n",
       "Urban           45.871511                   65.762849   \n",
       "\n",
       "          % Total Drivers by City Type  \n",
       "type                                    \n",
       "Rural                         0.962480  \n",
       "Suburban                     13.644187  \n",
       "Urban                        85.393333  "
      ]
     },
     "execution_count": 9,
     "metadata": {},
     "output_type": "execute_result"
    }
   ],
   "source": [
    "# create a Pivot Table and then add above columns\n",
    "\n",
    "df_1=df.pivot_table(index=\"type\", aggfunc=\"sum\", margins=False)\n",
    "\n",
    "df_1[\"%fare_city_type\"]=(df_1.Average_fare).astype(float)/df_1.Average_fare.sum()*100\n",
    "df_1[\"% Total Rides by City Type\"]=(df_1.total_rides).astype(float)/df_1.total_rides.sum()*100\n",
    "df_1[\"% Total Drivers by City Type\"]=(df_1.total_driver).astype(float)/df_1.total_driver.sum()*100\n",
    "\n",
    "df_1"
   ]
  },
  {
   "cell_type": "code",
   "execution_count": 10,
   "metadata": {},
   "outputs": [
    {
     "data": {
      "text/plain": [
       "<matplotlib.text.Text at 0x1178df940>"
      ]
     },
     "execution_count": 10,
     "metadata": {},
     "output_type": "execute_result"
    },
    {
     "data": {
      "image/png": "[encoded data removed]",
      "text/plain": [
       "<matplotlib.figure.Figure at 0x11525ac88>"
      ]
     },
     "metadata": {},
     "output_type": "display_data"
    }
   ],
   "source": [
    "\n",
    "#Pie Chart \"% Total Rides by City Type\n",
    "\n",
    "plt.figure(figsize = (7,7))\n",
    "\n",
    "explode=[0,0,0.15]\n",
    "\n",
    "\n",
    "plt.pie(df_1[\"% Total Rides by City Type\"], labels=df_pivot[\"type\"], colors=colors, explode=explode,\n",
    "        autopct=\"{0:1.1f}%\".format, shadow=True, startangle=110)\n",
    "\n",
    "plt.title(\"% Total Rides by City Type\")\n"
   ]
  },
  {
   "cell_type": "code",
   "execution_count": 11,
   "metadata": {},
   "outputs": [
    {
     "data": {
      "text/plain": [
       "<matplotlib.text.Text at 0x11527ac50>"
      ]
     },
     "execution_count": 11,
     "metadata": {},
     "output_type": "execute_result"
    },
    {
     "data": {
      "image/png": "[encoded data removed]",
      "text/plain": [
       "<matplotlib.figure.Figure at 0x1178d9630>"
      ]
     },
     "metadata": {},
     "output_type": "display_data"
    }
   ],
   "source": [
    "#Pie Chart \"% Total Rides by City Type\n",
    "\n",
    "plt.figure(figsize = (7,7))\n",
    "\n",
    "explode=[0,0,0.15]\n",
    "\n",
    "\n",
    "plt.pie(df_1[\"% Total Drivers by City Type\"], labels=df_pivot[\"type\"], colors=colors, explode=explode,\n",
    "        autopct=\"{0:1.1f}%\".format, shadow=True, startangle=140)\n",
    "\n",
    "plt.title(\"% Total Drivers by City Type\")"
   ]
  },
  {
   "cell_type": "markdown",
   "metadata": {
    "collapsed": true
   },
   "source": [
    "# three observable trends based on the data.\n",
    "\n",
    "    1-Number of  Drivers in Rural types are less than Urban and Suburban\n",
    "    2-obviously when the number of drivers in Rural area is less than all other types , number of Rides is less than \n",
    "      others\n",
    "    3-fare and number of rides has negative correlation(-0.447495)"
   ]
  },
  {
   "cell_type": "code",
   "execution_count": null,
   "metadata": {
    "collapsed": true
   },
   "outputs": [],
   "source": []
  },
  {
   "cell_type": "code",
   "execution_count": null,
   "metadata": {
    "collapsed": true
   },
   "outputs": [],
   "source": []
  }
 ],
 "metadata": {
  "kernelspec": {
   "display_name": "Python 3",
   "language": "python",
   "name": "python3"
  },
  "language_info": {
   "codemirror_mode": {
    "name": "ipython",
    "version": 3
   },
   "file_extension": ".py",
   "mimetype": "text/x-python",
   "name": "python",
   "nbconvert_exporter": "python",
   "pygments_lexer": "ipython3",
   "version": "3.6.1"
  }
 },
 "nbformat": 4,
 "nbformat_minor": 2
}
